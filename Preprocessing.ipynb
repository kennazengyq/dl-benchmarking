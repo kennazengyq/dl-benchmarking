{
 "cells": [
  {
   "cell_type": "markdown",
   "metadata": {},
   "source": [
    "# Preprocess validation dataset"
   ]
  },
  {
   "cell_type": "code",
   "execution_count": 1,
   "metadata": {},
   "outputs": [
    {
     "name": "stdout",
     "output_type": "stream",
     "text": [
      "file 1: data/val/ILSVRC2012_val_00000001.JPEG\n"
     ]
    }
   ],
   "source": [
    "import sys, os, time\n",
    "import numpy as np\n",
    "import tensorflow as tf\n",
    "import matplotlib.pyplot as plt\n",
    "import scipy.io\n",
    "import cv2\n",
    "from keras import backend as K\n",
    "from keras.utils import to_categorical\n",
    "from keras.applications.vgg19 import VGG19, preprocess_input\n",
    "\n",
    "os.environ[\"CUDA_DEVICE_ORDER\"]=\"PCI_BUS_ID\"\n",
    "os.environ[\"CUDA_VISIBLE_DEVICES\"]=\"0\"\n",
    "\n",
    "def humanSize(nbytes):\n",
    "    suffixes = ['B', 'KB', 'MB', 'GB', 'TB', 'PB']\n",
    "    i = 0\n",
    "    while nbytes >= 1024 and i < len(suffixes) - 1:\n",
    "        nbytes /= 1024\n",
    "        i += 1\n",
    "    f = ('%.2f' % nbytes).rstrip('0').rstrip('.')\n",
    "    return '%s %s' % (f, suffixes[i])\n",
    "\n",
    "\n",
    "# load data as a list\n",
    "fns = os.listdir(\"data/val\")\n",
    "fns.sort()\n",
    "fns = [\n",
    "    \"data/val/\" + fn\n",
    "    for fn in fns\n",
    "]\n",
    "\n",
    "\n",
    "print('file 1:', fns[0])\n"
   ]
  },
  {
   "cell_type": "code",
   "execution_count": 2,
   "metadata": {},
   "outputs": [],
   "source": [
    "def humansize(nbytes):\n",
    "    suffixes = ['B', 'KB', 'MB', 'GB', 'TB', 'PB']\n",
    "    i = 0\n",
    "    while nbytes >= 1024 and i < len(suffixes)-1:\n",
    "        nbytes /= 1024.\n",
    "        i += 1\n",
    "    f = ('%.2f' % nbytes).rstrip('0').rstrip('.')\n",
    "    return '%s %s' % (f, suffixes[i])\n",
    "\n"
   ]
  },
  {
   "cell_type": "markdown",
   "metadata": {},
   "source": [
    "## Match labels (done)"
   ]
  },
  {
   "cell_type": "code",
   "execution_count": 8,
   "metadata": {},
   "outputs": [],
   "source": [
    "# match meta.mat and synset_words.txt\n",
    "meta = scipy.io.loadmat(\"data/meta.mat\")\n",
    "original_idx_to_synset = {}\n",
    "synset_to_name = {}\n",
    "\n",
    "for i in range(1000):\n",
    "    ilsvrc2012_id = int(meta['synsets'][i,0][0][0][0])\n",
    "    synset = meta[\"synsets\"][i,0][1][0]\n",
    "    name = meta[\"synsets\"][i,0][2][0]\n",
    "    original_idx_to_synset[ilsvrc2012_id] = synset\n",
    "    synset_to_name[synset] = name\n",
    "\n",
    "# assign each synset word an id from 1 to 100\n",
    "synset_to_keras_idx = {}\n",
    "keras_idx_to_name = {}\n",
    "\n",
    "\n",
    "f = open(\"data/synset_words.txt\",\"r\")\n",
    "idx = 0\n",
    "for line in f:\n",
    "    parts = line.split(\" \")\n",
    "    synset_to_keras_idx[parts[0]] = idx\n",
    "    keras_idx_to_name[idx] = \" \".join(parts[1:])\n",
    "    idx += 1\n",
    "\n",
    "def convert_original_idx_to_keras_idx(idx):\n",
    "    return synset_to_keras_idx[original_idx_to_synset[idx]]\n"
   ]
  },
  {
   "cell_type": "markdown",
   "metadata": {},
   "source": [
    "## First 5000"
   ]
  },
  {
   "cell_type": "code",
   "execution_count": 3,
   "metadata": {},
   "outputs": [
    {
     "name": "stdout",
     "output_type": "stream",
     "text": [
      "2.8 GB\n",
      "5 GB\n",
      "CPU times: user 238 µs, sys: 338 µs, total: 576 µs\n",
      "Wall time: 364 µs\n"
     ]
    }
   ],
   "source": [
    "%%time\n",
    "\n",
    "x_val5 = np.zeros((5000, 224, 224, 3), dtype=np.float32)\n",
    "print(humansize(x_val5.nbytes))\n",
    "\n",
    "x_val5_2 = np.zeros((5000, 299, 299, 3), dtype=np.float32)\n",
    "print(humansize(x_val5_2.nbytes))\n"
   ]
  },
  {
   "cell_type": "code",
   "execution_count": 4,
   "metadata": {
    "scrolled": true
   },
   "outputs": [
    {
     "name": "stdout",
     "output_type": "stream",
     "text": [
      "0/5000\n",
      "1000/5000\n",
      "2000/5000\n",
      "3000/5000\n",
      "4000/5000\n",
      "CPU times: user 1min 12s, sys: 17.6 s, total: 1min 29s\n",
      "Wall time: 18.7 s\n"
     ]
    }
   ],
   "source": [
    "%%time\n",
    "\n",
    "\n",
    "for i in range(5000):\n",
    "    if i % 1000 == 0:    # for checking progress\n",
    "        print(\"%d/%d\" % (i, 5000))\n",
    "        \n",
    "        \n",
    "    # load as BGR\n",
    "    img = cv2.imread(fns[i])\n",
    "    \n",
    "    # resize\n",
    "    height, width = img.shape[:2]\n",
    "    new_height =  height * 256 // min(img.shape[:2])\n",
    "    new_width = width * 256 // min(img.shape[:2])\n",
    "    img = cv2.resize(img, (new_width, new_height), interpolation = cv2.INTER_CUBIC)\n",
    "    \n",
    "    # crop\n",
    "    height, width = img.shape[:2]\n",
    "    startx = width//2 - (224//2)\n",
    "    starty = height//2 - (224//2)\n",
    "    img = img[starty:starty+224,startx:startx+224]\n",
    "    assert img.shape[0] == 224 and img.shape[1] == 224\n",
    "    \n",
    "    # save as rgb\n",
    "    x_val5[i,:,:,:] = img[:,:,::-1]\n",
    "    \n"
   ]
  },
  {
   "cell_type": "code",
   "execution_count": 5,
   "metadata": {},
   "outputs": [
    {
     "name": "stdout",
     "output_type": "stream",
     "text": [
      "CPU times: user 76.3 ms, sys: 1.18 s, total: 1.26 s\n",
      "Wall time: 2.23 s\n"
     ]
    }
   ],
   "source": [
    "%%time\n",
    "\n",
    "np.save(\"data/x_val5.npy\", x_val5)"
   ]
  },
  {
   "cell_type": "code",
   "execution_count": 17,
   "metadata": {},
   "outputs": [
    {
     "name": "stdout",
     "output_type": "stream",
     "text": [
      "0/1000\n",
      "1000/1000\n",
      "2000/1000\n",
      "3000/1000\n",
      "4000/1000\n",
      "CPU times: user 1min 16s, sys: 20.8 s, total: 1min 36s\n",
      "Wall time: 1min 14s\n"
     ]
    }
   ],
   "source": [
    "%%time\n",
    "\n",
    "for i in range(5000):\n",
    "    if i % 1000 == 0:    # for checking progress\n",
    "        print(\"%d/%d\" % (i, 5000))\n",
    "        \n",
    "    # load as BGR\n",
    "    img = cv2.imread(fns[i])\n",
    "    \n",
    "    # resize\n",
    "    height, width = img.shape[:2]\n",
    "    new_height =  height * 299 // min(img.shape[:2])\n",
    "    new_width = width * 299 // min(img.shape[:2])\n",
    "    img = cv2.resize(img, (new_width, new_height), interpolation = cv2.INTER_CUBIC)\n",
    "    \n",
    "    # crop\n",
    "    height, width = img.shape[:2]\n",
    "    startx = width//2 - (299//2)\n",
    "    starty = height//2 - (299//2)\n",
    "    img = img[starty:starty+299,startx:startx+299]\n",
    "    assert img.shape[0] == 299 and img.shape[1] == 299, (img.shape, height, width)\n",
    "    \n",
    "    # save as rgb\n",
    "    x_val5_2[i,:,:,:] = img[:,:,::-1]\n",
    "    \n"
   ]
  },
  {
   "cell_type": "code",
   "execution_count": 18,
   "metadata": {
    "scrolled": false
   },
   "outputs": [
    {
     "name": "stdout",
     "output_type": "stream",
     "text": [
      "CPU times: user 0 ns, sys: 2.1 s, total: 2.1 s\n",
      "Wall time: 5.34 s\n"
     ]
    }
   ],
   "source": [
    "%%time\n",
    "\n",
    "np.save(\"data/x_val5_2.npy\", x_val5_2)"
   ]
  },
  {
   "cell_type": "code",
   "execution_count": 10,
   "metadata": {
    "scrolled": true
   },
   "outputs": [],
   "source": [
    "# create y_val from ground truth text file\n",
    "\n",
    "f = open(\"data/ILSVRC2012_validation_ground_truth.txt\",\"r\")\n",
    "y_val5 = f.read().strip().split(\"\\n\")\n",
    "y_val5 = list(map(int, y_val5))\n",
    "y_val5 = np.array([convert_original_idx_to_keras_idx(idx) for idx in y_val5[:5000]])\n",
    "f.close()\n"
   ]
  },
  {
   "cell_type": "code",
   "execution_count": 11,
   "metadata": {},
   "outputs": [],
   "source": [
    "np.save(\"data/y_val5.npy\", y_val5)"
   ]
  },
  {
   "cell_type": "markdown",
   "metadata": {},
   "source": [
    "## First 1000"
   ]
  },
  {
   "cell_type": "code",
   "execution_count": 4,
   "metadata": {},
   "outputs": [
    {
     "name": "stdout",
     "output_type": "stream",
     "text": [
      "574.22 MB\n",
      "1023.11 MB\n",
      "CPU times: user 129 µs, sys: 188 µs, total: 317 µs\n",
      "Wall time: 187 µs\n"
     ]
    }
   ],
   "source": [
    "%%time\n",
    "\n",
    "x_val1 = np.zeros((1000, 224, 224, 3), dtype=np.float32)\n",
    "print(humansize(x_val1.nbytes))\n",
    "\n",
    "x_val1_2 = np.zeros((1000, 299, 299, 3), dtype=np.float32)\n",
    "print(humansize(x_val1_2.nbytes))\n"
   ]
  },
  {
   "cell_type": "code",
   "execution_count": 6,
   "metadata": {
    "scrolled": true
   },
   "outputs": [
    {
     "name": "stdout",
     "output_type": "stream",
     "text": [
      "0/1000\n",
      "200/1000\n",
      "400/1000\n",
      "600/1000\n",
      "800/1000\n",
      "CPU times: user 14.6 s, sys: 3.5 s, total: 18.1 s\n",
      "Wall time: 3.58 s\n"
     ]
    }
   ],
   "source": [
    "%%time\n",
    "\n",
    "# done \n",
    "\n",
    "for i in range(1000):\n",
    "    if i % 200 == 0:    # for checking progress\n",
    "        print(\"%d/%d\" % (i, 1000))\n",
    "        \n",
    "        \n",
    "    # load as BGR\n",
    "    img = cv2.imread(fns[i])\n",
    "    \n",
    "    # resize\n",
    "    height, width = img.shape[:2]\n",
    "    new_height =  height * 256 // min(img.shape[:2])\n",
    "    new_width = width * 256 // min(img.shape[:2])\n",
    "    img = cv2.resize(img, (new_width, new_height), interpolation = cv2.INTER_CUBIC)\n",
    "    \n",
    "    # crop\n",
    "    height, width = img.shape[:2]\n",
    "    startx = width//2 - (224//2)\n",
    "    starty = height//2 - (224//2)\n",
    "    img = img[starty:starty+224,startx:startx+224]\n",
    "    assert img.shape[0] == 224 and img.shape[1] == 224\n",
    "    \n",
    "    # save as rgb\n",
    "    x_val1[i,:,:,:] = img[:,:,::-1]\n",
    "    \n"
   ]
  },
  {
   "cell_type": "code",
   "execution_count": 8,
   "metadata": {},
   "outputs": [
    {
     "name": "stdout",
     "output_type": "stream",
     "text": [
      "CPU times: user 0 ns, sys: 245 ms, total: 245 ms\n",
      "Wall time: 544 ms\n"
     ]
    }
   ],
   "source": [
    "%%time\n",
    "\n",
    "np.save(\"data/x_val1.npy\", x_val1)"
   ]
  },
  {
   "cell_type": "code",
   "execution_count": 10,
   "metadata": {},
   "outputs": [
    {
     "name": "stdout",
     "output_type": "stream",
     "text": [
      "0/1000\n",
      "200/1000\n",
      "400/1000\n",
      "600/1000\n",
      "800/1000\n",
      "CPU times: user 15.1 s, sys: 3.42 s, total: 18.5 s\n",
      "Wall time: 3.69 s\n"
     ]
    }
   ],
   "source": [
    "%%time\n",
    "\n",
    "for i in range(1000):\n",
    "    if i % 200 == 0:    # for checking progress\n",
    "        print(\"%d/%d\" % (i, 1000))\n",
    "        \n",
    "    # load as BGR\n",
    "    img = cv2.imread(fns[i])\n",
    "    \n",
    "    # resize\n",
    "    height, width = img.shape[:2]\n",
    "    new_height =  height * 299 // min(img.shape[:2])\n",
    "    new_width = width * 299 // min(img.shape[:2])\n",
    "    img = cv2.resize(img, (new_width, new_height), interpolation = cv2.INTER_CUBIC)\n",
    "    \n",
    "    # crop\n",
    "    height, width = img.shape[:2]\n",
    "    startx = width//2 - (299//2)\n",
    "    starty = height//2 - (299//2)\n",
    "    img = img[starty:starty+299,startx:startx+299]\n",
    "    assert img.shape[0] == 299 and img.shape[1] == 299, (img.shape, height, width)\n",
    "    \n",
    "    # save as rgb\n",
    "    x_val1_2[i,:,:,:] = img[:,:,::-1]\n",
    "    \n"
   ]
  },
  {
   "cell_type": "code",
   "execution_count": 12,
   "metadata": {
    "scrolled": true
   },
   "outputs": [
    {
     "name": "stdout",
     "output_type": "stream",
     "text": [
      "CPU times: user 0 ns, sys: 420 ms, total: 420 ms\n",
      "Wall time: 793 ms\n"
     ]
    }
   ],
   "source": [
    "%%time\n",
    "\n",
    "np.save(\"data/x_val1_2.npy\", x_val1_2)"
   ]
  },
  {
   "cell_type": "code",
   "execution_count": 26,
   "metadata": {
    "scrolled": true
   },
   "outputs": [],
   "source": [
    "# create y_val from ground truth text file\n",
    "\n",
    "f = open(\"data/ILSVRC2012_validation_ground_truth.txt\",\"r\")\n",
    "y_val = f.read().strip().split(\"\\n\")\n",
    "y_val = list(map(int, y_val))\n",
    "y_val = np.array([convert_original_idx_to_keras_idx(idx) for idx in y_val[:1000]])\n",
    "f.close()\n"
   ]
  },
  {
   "cell_type": "code",
   "execution_count": 27,
   "metadata": {},
   "outputs": [],
   "source": [
    "np.save(\"data/y_val1.npy\", y_val)"
   ]
  },
  {
   "cell_type": "code",
   "execution_count": null,
   "metadata": {},
   "outputs": [],
   "source": []
  }
 ],
 "metadata": {
  "kernelspec": {
   "display_name": "Python 3",
   "language": "python",
   "name": "python3"
  },
  "language_info": {
   "codemirror_mode": {
    "name": "ipython",
    "version": 3
   },
   "file_extension": ".py",
   "mimetype": "text/x-python",
   "name": "python",
   "nbconvert_exporter": "python",
   "pygments_lexer": "ipython3",
   "version": "3.6.9"
  }
 },
 "nbformat": 4,
 "nbformat_minor": 4
}
