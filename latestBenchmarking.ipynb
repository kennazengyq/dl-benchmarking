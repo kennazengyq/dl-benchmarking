{
 "cells": [
  {
   "cell_type": "code",
   "execution_count": 1,
   "metadata": {},
   "outputs": [
    {
     "name": "stdout",
     "output_type": "stream",
     "text": [
      "Collecting numpy\n",
      "  Downloading numpy-1.19.4-cp36-cp36m-manylinux2010_x86_64.whl (14.5 MB)\n",
      "\u001b[K     |████████████████████████████████| 14.5 MB 1.7 MB/s eta 0:00:01\n",
      "\u001b[?25hInstalling collected packages: numpy\n",
      "  Attempting uninstall: numpy\n",
      "    Found existing installation: numpy 1.18.5\n",
      "    Uninstalling numpy-1.18.5:\n",
      "      Successfully uninstalled numpy-1.18.5\n",
      "\u001b[31mERROR: After October 2020 you may experience errors when installing or updating packages. This is because pip will change the way that it resolves dependency conflicts.\n",
      "\n",
      "We recommend you use --use-feature=2020-resolver to test your packages with the new resolver before it becomes the default.\n",
      "\n",
      "tensorflow-gpu 2.3.1 requires numpy<1.19.0,>=1.16.0, but you'll have numpy 1.19.4 which is incompatible.\u001b[0m\n",
      "Successfully installed numpy-1.19.4\n",
      "\u001b[33mWARNING: You are using pip version 20.2.3; however, version 20.3.1 is available.\n",
      "You should consider upgrading via the '/usr/bin/python3 -m pip install --upgrade pip' command.\u001b[0m\n",
      "Note: you may need to restart the kernel to use updated packages.\n"
     ]
    }
   ],
   "source": [
    "pip install -U numpy"
   ]
  },
  {
   "cell_type": "code",
   "execution_count": 2,
   "metadata": {},
   "outputs": [],
   "source": [
    "import sys, os, time\n",
    "import numpy as np\n",
    "import tensorflow as tf\n",
    "import matplotlib.pyplot as plt\n",
    "from keras.utils import to_categorical\n",
    "\n",
    "def top_k_accuracy(y_true, y_pred, k=1):\n",
    "    argsorted_y = np.argsort(y_pred)[:,-k:]\n",
    "    return np.any(argsorted_y.T == y_true.argmax(axis=1), axis=0).mean()"
   ]
  },
  {
   "cell_type": "code",
   "execution_count": 3,
   "metadata": {},
   "outputs": [],
   "source": [
    "from tensorflow.keras.applications.xception import Xception, preprocess_input as pp_xception\n",
    "from tensorflow.keras.applications.vgg16 import VGG16, preprocess_input as pp_vgg16\n",
    "from tensorflow.keras.applications.vgg19 import VGG19, preprocess_input as pp_vgg19\n",
    "from tensorflow.keras.applications.inception_v3 import InceptionV3, preprocess_input as pp_inceptionv3\n",
    "from tensorflow.keras.applications.mobilenet_v2 import MobileNetV2, preprocess_input as pp_mobilenetv2\n",
    "from tensorflow.keras.applications.resnet50 import ResNet50, preprocess_input as pp_resnet50\n",
    "from tensorflow.keras.applications.resnet_v2 import ResNet50V2, preprocess_input as pp_resnet50v2\n",
    "from tensorflow.keras.applications.resnet_v2 import ResNet101V2, preprocess_input as pp_resnet101v2\n",
    "from tensorflow.keras.applications.resnet_v2 import ResNet152V2, preprocess_input as pp_resnet152v2\n",
    "from tensorflow.keras.applications.densenet import DenseNet121, preprocess_input as pp_densenet121\n",
    "from tensorflow.keras.applications.densenet import DenseNet169, preprocess_input as pp_densenet169\n",
    "from tensorflow.keras.applications.densenet import DenseNet201, preprocess_input as pp_densenet201\n",
    "from tensorflow.keras.applications.nasnet import NASNetMobile, preprocess_input as pp_nasnetmobile\n",
    "from tensorflow.keras.applications.efficientnet import EfficientNetB0, preprocess_input as pp_efficientnetb0\n",
    "from keras import backend as K"
   ]
  },
  {
   "cell_type": "code",
   "execution_count": 4,
   "metadata": {},
   "outputs": [],
   "source": [
    "K.clear_session()\n",
    "gpu_options = tf.compat.v1.GPUOptions(allow_growth=True)\n",
    "session = tf.compat.v1.Session(config=tf.compat.v1.ConfigProto(gpu_options=gpu_options))\n",
    "config = tf.compat.v1.ConfigProto()\n",
    "config.gpu_options.per_process_gpu_memory_fraction = 1\n",
    "session = tf.compat.v1.Session(config=config)\n",
    "os.environ[\"CUDA_DEVICE_ORDER\"]=\"PCI_BUS_ID\"\n",
    "os.environ[\"CUDA_VISIBLE_DEVICES\"]=\"0\""
   ]
  },
  {
   "cell_type": "markdown",
   "metadata": {},
   "source": [
    "# First 5000 images"
   ]
  },
  {
   "cell_type": "markdown",
   "metadata": {},
   "source": [
    "## Load Data"
   ]
  },
  {
   "cell_type": "code",
   "execution_count": 5,
   "metadata": {},
   "outputs": [],
   "source": [
    "models = [\n",
    "    [Xception, 'xception', pp_xception],\n",
    "    [VGG16, 'vgg16', pp_vgg16],\n",
    "    [VGG19, 'vgg19', pp_vgg19],\n",
    "    [InceptionV3, 'inceptionv3', pp_inceptionv3],\n",
    "    [MobileNetV2, 'mobilenetv2', pp_mobilenetv2],\n",
    "    [ResNet50V2, 'resnet50v2', pp_resnet50v2],\n",
    "    [ResNet101V2, 'resnet101v2', pp_resnet101v2],\n",
    "    [ResNet152V2, 'resnet152v2', pp_resnet152v2],\n",
    "    [DenseNet121, 'densenet121', pp_densenet121],\n",
    "    [DenseNet169, 'densenet169', pp_densenet169],\n",
    "    [DenseNet201, 'densenet201', pp_densenet201],\n",
    "    [NASNetMobile, 'nasnetmobile', pp_nasnetmobile],\n",
    "    [EfficientNetB0, 'efficientnetb0', pp_efficientnetb0]\n",
    "]"
   ]
  },
  {
   "cell_type": "code",
   "execution_count": null,
   "metadata": {},
   "outputs": [],
   "source": [
    "x_val5 = np.load(\"data/x_val5.npy\")\n",
    "x_val5_2 = np.load(\"data/x_val5_2.npy\")\n",
    "y_val5 = np.load(\"data/y_val5.npy\")\n",
    "y_val5_one_hot = to_categorical(y_val5, 5000) # one-hot encoding\n",
    "\n",
    "\n",
    "for i in range(13):\n",
    "\n",
    "    gpu_options = tf.compat.v1.GPUOptions(allow_growth=True)\n",
    "    session = tf.compat.v1.Session(config=tf.compat.v1.ConfigProto(gpu_options=gpu_options))\n",
    "    config = tf.compat.v1.ConfigProto()\n",
    "    config.gpu_options.per_process_gpu_memory_fraction = 1\n",
    "    session = tf.compat.v1.Session(config=config)\n",
    "    os.environ[\"CUDA_DEVICE_ORDER\"]=\"PCI_BUS_ID\"\n",
    "    os.environ[\"CUDA_VISIBLE_DEVICES\"]=\"0\"\n",
    "    \n",
    "    \n",
    "    modelChosen = models[i][0]\n",
    "    modelName = models[i][1]\n",
    "    preprocess = models[i][2]\n",
    "\n",
    "    fileName  = '.keras/models/' + modelName +'.h5'\n",
    "    model = modelChosen(weights = fileName)\n",
    "\n",
    "    if modelName not in ['xception', 'inceptionv3']:  # these models require 299 x 299\n",
    "        x_val = preprocess(x_val5) \n",
    "    else:\n",
    "        x_val = preprocess(x_val5_2)\n",
    "    \n",
    "    y_pred = model.predict(x_val, verbose=1)\n",
    "    \n",
    "    print(\"Top 1 accuracy of\", modelName + \": \", top_k_accuracy(y_val5_one_hot, y_pred, k=1))\n",
    "    print(\"Top 5 accuracy of\", modelName + \": \", top_k_accuracy(y_val5_one_hot, y_pred, k=5))\n",
    "    print()\n",
    "    \n",
    "    K.clear_session()"
   ]
  },
  {
   "cell_type": "markdown",
   "metadata": {},
   "source": [
    "# First 1000 images"
   ]
  },
  {
   "cell_type": "markdown",
   "metadata": {},
   "source": [
    "## Load Data"
   ]
  },
  {
   "cell_type": "code",
   "execution_count": 19,
   "metadata": {},
   "outputs": [],
   "source": [
    "# change the 3 variables for testing models\n",
    "modelChosen = InceptionV3\n",
    "modelName = 'inceptionv3'\n",
    "preprocess = pp_inceptionv3\n",
    "\n",
    "fileName  = '.keras/models/' + modelName +'.h5'\n",
    "model = modelChosen(weights = fileName)\n",
    "\n",
    "if modelName not in ['xception', 'inceptionv3']:  # these models require 299 x 299\n",
    "    x_val1 = np.load(\"data/x_val1.npy\") \n",
    "else:\n",
    "    x_val1 = np.load(\"data/x_val1_2.npy\")\n",
    "    \n",
    "y_val1 = np.load(\"data/y_val1.npy\")\n",
    "y_val1_one_hot = to_categorical(y_val1, 1000) # convert y_val to an array with binary values and columns equal to number of classes (one-hot encoding)"
   ]
  },
  {
   "cell_type": "code",
   "execution_count": 20,
   "metadata": {
    "scrolled": true
   },
   "outputs": [
    {
     "name": "stdout",
     "output_type": "stream",
     "text": [
      " 2/32 [>.............................] - ETA: 2sWARNING:tensorflow:Callbacks method `on_predict_batch_end` is slow compared to the batch time (batch time: 0.0124s vs `on_predict_batch_end` time: 0.1004s). Check your callbacks.\n",
      "32/32 [==============================] - 4s 112ms/step\n"
     ]
    }
   ],
   "source": [
    "x_val = preprocess(x_val1)\n",
    "y_pred = model.predict(x_val, verbose=1)"
   ]
  },
  {
   "cell_type": "code",
   "execution_count": 16,
   "metadata": {
    "scrolled": false
   },
   "outputs": [
    {
     "name": "stdout",
     "output_type": "stream",
     "text": [
      "Top 5 accuracy of efficientnetb0: 0.924\n",
      "Top 1 accuracy of efficientnetb0: 0.741\n"
     ]
    }
   ],
   "source": [
    "print(\"Top 5 accuracy of\", modelName + \":\", top_k_accuracy(y_val_one_hot, y_pred, k=5))\n",
    "print(\"Top 1 accuracy of\", modelName + \":\", top_k_accuracy(y_val_one_hot, y_pred, k=1))"
   ]
  }
 ],
 "metadata": {
  "kernelspec": {
   "display_name": "Python 3",
   "language": "python",
   "name": "python3"
  },
  "language_info": {
   "codemirror_mode": {
    "name": "ipython",
    "version": 3
   },
   "file_extension": ".py",
   "mimetype": "text/x-python",
   "name": "python",
   "nbconvert_exporter": "python",
   "pygments_lexer": "ipython3",
   "version": "3.6.9"
  }
 },
 "nbformat": 4,
 "nbformat_minor": 2
}
