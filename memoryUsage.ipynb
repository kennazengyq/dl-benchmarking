{
 "cells": [
  {
   "cell_type": "code",
   "execution_count": 2,
   "metadata": {},
   "outputs": [],
   "source": [
    "import sys, os, time\n",
    "import numpy as np\n",
    "import tensorflow as tf\n",
    "from tensorflow.keras.applications.xception import Xception, preprocess_input as pp_xception\n",
    "from tensorflow.keras.applications.vgg16 import VGG16, preprocess_input as pp_vgg16\n",
    "from tensorflow.keras.applications.vgg19 import VGG19, preprocess_input as pp_vgg19\n",
    "from tensorflow.keras.applications.inception_v3 import InceptionV3, preprocess_input as pp_inceptionv3\n",
    "from tensorflow.keras.applications.mobilenet_v2 import MobileNetV2, preprocess_input as pp_mobilenetv2\n",
    "from tensorflow.keras.applications.resnet50 import ResNet50, preprocess_input as pp_resnet50\n",
    "from tensorflow.keras.applications.resnet_v2 import ResNet50V2, preprocess_input as pp_resnet50v2\n",
    "from tensorflow.keras.applications.resnet_v2 import ResNet101V2, preprocess_input as pp_resnet101v2\n",
    "from tensorflow.keras.applications.resnet_v2 import ResNet152V2, preprocess_input as pp_resnet152v2\n",
    "from tensorflow.keras.applications.densenet import DenseNet121, preprocess_input as pp_densenet121\n",
    "from tensorflow.keras.applications.densenet import DenseNet169, preprocess_input as pp_densenet169\n",
    "from tensorflow.keras.applications.densenet import DenseNet201, preprocess_input as pp_densenet201\n",
    "from tensorflow.keras.applications.nasnet import NASNetMobile, preprocess_input as pp_nasnetmobile\n",
    "from tensorflow.keras.applications.efficientnet import EfficientNetB0, preprocess_input as pp_efficientnetb0\n",
    "from keras import backend as K\n",
    "import csv"
   ]
  },
  {
   "cell_type": "code",
   "execution_count": 3,
   "metadata": {},
   "outputs": [],
   "source": [
    "models = [\n",
    "    [Xception, 'xception', pp_xception],\n",
    "    [VGG16, 'vgg16', pp_vgg16],\n",
    "    [VGG19, 'vgg19', pp_vgg19],\n",
    "    [InceptionV3, 'inceptionv3', pp_inceptionv3],\n",
    "    [MobileNetV2, 'mobilenetv2', pp_mobilenetv2],\n",
    "    [ResNet50V2, 'resnet50v2', pp_resnet50v2],\n",
    "    [ResNet101V2, 'resnet101v2', pp_resnet101v2],\n",
    "    [ResNet152V2, 'resnet152v2', pp_resnet152v2],\n",
    "    [DenseNet121, 'densenet121', pp_densenet121],\n",
    "    [DenseNet169, 'densenet169', pp_densenet169],\n",
    "    [DenseNet201, 'densenet201', pp_densenet201],\n",
    "    [NASNetMobile, 'nasnetmobile', pp_nasnetmobile],\n",
    "    [EfficientNetB0, 'efficientnetb0', pp_efficientnetb0]\n",
    "]"
   ]
  },
  {
   "cell_type": "code",
   "execution_count": 5,
   "metadata": {
    "scrolled": true
   },
   "outputs": [],
   "source": [
    "from memory_profiler import profile\n"
   ]
  },
  {
   "cell_type": "code",
   "execution_count": 9,
   "metadata": {},
   "outputs": [
    {
     "name": "stdout",
     "output_type": "stream",
     "text": [
      "ERROR: Could not find file <ipython-input-9-9333cd986503>\n",
      "NOTE: %mprun can only be used on functions defined in physical files, and not in the IPython environment.\n"
     ]
    },
    {
     "ename": "UnboundLocalError",
     "evalue": "local variable 'i' referenced before assignment",
     "output_type": "error",
     "traceback": [
      "\u001b[0;31m---------------------------------------------------------------------------\u001b[0m",
      "\u001b[0;31mUnboundLocalError\u001b[0m                         Traceback (most recent call last)",
      "\u001b[0;32m<ipython-input-9-9333cd986503>\u001b[0m in \u001b[0;36m<module>\u001b[0;34m\u001b[0m\n\u001b[1;32m     35\u001b[0m         \u001b[0mavg\u001b[0m \u001b[0;34m=\u001b[0m \u001b[0;34m\"{:.2f}\"\u001b[0m\u001b[0;34m.\u001b[0m\u001b[0mformat\u001b[0m\u001b[0;34m(\u001b[0m\u001b[0msum\u001b[0m\u001b[0;34m/\u001b[0m\u001b[0;36m10\u001b[0m\u001b[0;34m)\u001b[0m\u001b[0;34m\u001b[0m\u001b[0;34m\u001b[0m\u001b[0m\n\u001b[1;32m     36\u001b[0m \u001b[0;34m\u001b[0m\u001b[0m\n\u001b[0;32m---> 37\u001b[0;31m \u001b[0mhmm\u001b[0m\u001b[0;34m(\u001b[0m\u001b[0;34m)\u001b[0m\u001b[0;34m\u001b[0m\u001b[0;34m\u001b[0m\u001b[0m\n\u001b[0m",
      "\u001b[0;32m/usr/local/lib/python3.6/dist-packages/memory_profiler.py\u001b[0m in \u001b[0;36mwrapper\u001b[0;34m(*args, **kwargs)\u001b[0m\n\u001b[1;32m   1140\u001b[0m             \u001b[0;32mdef\u001b[0m \u001b[0mwrapper\u001b[0m\u001b[0;34m(\u001b[0m\u001b[0;34m*\u001b[0m\u001b[0margs\u001b[0m\u001b[0;34m,\u001b[0m \u001b[0;34m**\u001b[0m\u001b[0mkwargs\u001b[0m\u001b[0;34m)\u001b[0m\u001b[0;34m:\u001b[0m\u001b[0;34m\u001b[0m\u001b[0;34m\u001b[0m\u001b[0m\n\u001b[1;32m   1141\u001b[0m                 \u001b[0mprof\u001b[0m \u001b[0;34m=\u001b[0m \u001b[0mget_prof\u001b[0m\u001b[0;34m(\u001b[0m\u001b[0;34m)\u001b[0m\u001b[0;34m\u001b[0m\u001b[0;34m\u001b[0m\u001b[0m\n\u001b[0;32m-> 1142\u001b[0;31m                 \u001b[0mval\u001b[0m \u001b[0;34m=\u001b[0m \u001b[0mprof\u001b[0m\u001b[0;34m(\u001b[0m\u001b[0mfunc\u001b[0m\u001b[0;34m)\u001b[0m\u001b[0;34m(\u001b[0m\u001b[0;34m*\u001b[0m\u001b[0margs\u001b[0m\u001b[0;34m,\u001b[0m \u001b[0;34m**\u001b[0m\u001b[0mkwargs\u001b[0m\u001b[0;34m)\u001b[0m\u001b[0;34m\u001b[0m\u001b[0;34m\u001b[0m\u001b[0m\n\u001b[0m\u001b[1;32m   1143\u001b[0m                 \u001b[0mshow_results_bound\u001b[0m\u001b[0;34m(\u001b[0m\u001b[0mprof\u001b[0m\u001b[0;34m)\u001b[0m\u001b[0;34m\u001b[0m\u001b[0;34m\u001b[0m\u001b[0m\n\u001b[1;32m   1144\u001b[0m                 \u001b[0;32mreturn\u001b[0m \u001b[0mval\u001b[0m\u001b[0;34m\u001b[0m\u001b[0;34m\u001b[0m\u001b[0m\n",
      "\u001b[0;32m/usr/local/lib/python3.6/dist-packages/memory_profiler.py\u001b[0m in \u001b[0;36mf\u001b[0;34m(*args, **kwds)\u001b[0m\n\u001b[1;32m    715\u001b[0m             \u001b[0;32mdef\u001b[0m \u001b[0mf\u001b[0m\u001b[0;34m(\u001b[0m\u001b[0;34m*\u001b[0m\u001b[0margs\u001b[0m\u001b[0;34m,\u001b[0m \u001b[0;34m**\u001b[0m\u001b[0mkwds\u001b[0m\u001b[0;34m)\u001b[0m\u001b[0;34m:\u001b[0m\u001b[0;34m\u001b[0m\u001b[0;34m\u001b[0m\u001b[0m\n\u001b[1;32m    716\u001b[0m                 \u001b[0;32mwith\u001b[0m \u001b[0mself\u001b[0m\u001b[0;34m.\u001b[0m\u001b[0m_count_ctxmgr\u001b[0m\u001b[0;34m(\u001b[0m\u001b[0;34m)\u001b[0m\u001b[0;34m:\u001b[0m\u001b[0;34m\u001b[0m\u001b[0;34m\u001b[0m\u001b[0m\n\u001b[0;32m--> 717\u001b[0;31m                     \u001b[0;32mreturn\u001b[0m \u001b[0mfunc\u001b[0m\u001b[0;34m(\u001b[0m\u001b[0;34m*\u001b[0m\u001b[0margs\u001b[0m\u001b[0;34m,\u001b[0m \u001b[0;34m**\u001b[0m\u001b[0mkwds\u001b[0m\u001b[0;34m)\u001b[0m\u001b[0;34m\u001b[0m\u001b[0;34m\u001b[0m\u001b[0m\n\u001b[0m\u001b[1;32m    718\u001b[0m \u001b[0;34m\u001b[0m\u001b[0m\n\u001b[1;32m    719\u001b[0m         \u001b[0;32mreturn\u001b[0m \u001b[0mf\u001b[0m\u001b[0;34m\u001b[0m\u001b[0;34m\u001b[0m\u001b[0m\n",
      "\u001b[0;32m<ipython-input-9-9333cd986503>\u001b[0m in \u001b[0;36mhmm\u001b[0;34m()\u001b[0m\n\u001b[1;32m     11\u001b[0m \u001b[0;34m\u001b[0m\u001b[0m\n\u001b[1;32m     12\u001b[0m \u001b[0;34m\u001b[0m\u001b[0m\n\u001b[0;32m---> 13\u001b[0;31m     \u001b[0mmodelChosen\u001b[0m \u001b[0;34m=\u001b[0m \u001b[0mmodels\u001b[0m\u001b[0;34m[\u001b[0m\u001b[0mi\u001b[0m\u001b[0;34m]\u001b[0m\u001b[0;34m[\u001b[0m\u001b[0;36m0\u001b[0m\u001b[0;34m]\u001b[0m\u001b[0;34m\u001b[0m\u001b[0;34m\u001b[0m\u001b[0m\n\u001b[0m\u001b[1;32m     14\u001b[0m     \u001b[0mmodelName\u001b[0m \u001b[0;34m=\u001b[0m \u001b[0mmodels\u001b[0m\u001b[0;34m[\u001b[0m\u001b[0mi\u001b[0m\u001b[0;34m]\u001b[0m\u001b[0;34m[\u001b[0m\u001b[0;36m1\u001b[0m\u001b[0;34m]\u001b[0m\u001b[0;34m\u001b[0m\u001b[0;34m\u001b[0m\u001b[0m\n\u001b[1;32m     15\u001b[0m     \u001b[0mpreprocess\u001b[0m \u001b[0;34m=\u001b[0m \u001b[0mmodels\u001b[0m\u001b[0;34m[\u001b[0m\u001b[0mi\u001b[0m\u001b[0;34m]\u001b[0m\u001b[0;34m[\u001b[0m\u001b[0;36m2\u001b[0m\u001b[0;34m]\u001b[0m\u001b[0;34m\u001b[0m\u001b[0;34m\u001b[0m\u001b[0m\n",
      "\u001b[0;31mUnboundLocalError\u001b[0m: local variable 'i' referenced before assignment"
     ]
    }
   ],
   "source": [
    "@profile\n",
    "def hmm():\n",
    "\n",
    "    gpu_options = tf.compat.v1.GPUOptions(allow_growth=True)\n",
    "    session = tf.compat.v1.Session(config=tf.compat.v1.ConfigProto(gpu_options=gpu_options))\n",
    "    config = tf.compat.v1.ConfigProto()\n",
    "    config.gpu_options.per_process_gpu_memory_fraction = 1\n",
    "    session = tf.compat.v1.Session(config=config)\n",
    "    os.environ[\"CUDA_DEVICE_ORDER\"]=\"PCI_BUS_ID\"\n",
    "    os.environ[\"CUDA_VISIBLE_DEVICES\"]=\"0\"\n",
    "    \n",
    "    \n",
    "    modelChosen = models[i][0]\n",
    "    modelName = models[i][1]\n",
    "    preprocess = models[i][2]\n",
    "\n",
    "    fileName  = '.keras/models/' + modelName +'.h5'\n",
    "    model = modelChosen(weights = fileName)\n",
    "\n",
    "    if modelName not in ['xception', 'inceptionv3']:  # these models require 299 x 299\n",
    "        x_val1 = np.load(\"data/x_val5.npy\")\n",
    "\n",
    "    else:\n",
    "        x_val1 = np.load(\"data/x_val5_2.npy\")\n",
    "\n",
    "    toWrite = []    \n",
    "    print(modelName)\n",
    "    for batchSize in [1, 1, 2, 4, 16, 32, 64]:   # the first run always takes much longer, hence the first 1\n",
    "        sum = 0\n",
    "        for i in range(10):\n",
    "            x_val = preprocess(x_val1[:batchSize])\n",
    "            timeTaken = infTime(x_val)\n",
    "            timePerPhoto = timeTaken/batchSize\n",
    "            sum += timePerPhoto\n",
    "        avg = \"{:.2f}\".format(sum/10)\n",
    "\n",
    "hmm()"
   ]
  }
 ],
 "metadata": {
  "kernelspec": {
   "display_name": "Python 3",
   "language": "python",
   "name": "python3"
  },
  "language_info": {
   "codemirror_mode": {
    "name": "ipython",
    "version": 3
   },
   "file_extension": ".py",
   "mimetype": "text/x-python",
   "name": "python",
   "nbconvert_exporter": "python",
   "pygments_lexer": "ipython3",
   "version": "3.6.9"
  }
 },
 "nbformat": 4,
 "nbformat_minor": 2
}
