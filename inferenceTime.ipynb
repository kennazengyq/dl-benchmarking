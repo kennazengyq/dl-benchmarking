{
 "cells": [
  {
   "cell_type": "code",
   "execution_count": 6,
   "metadata": {},
   "outputs": [],
   "source": [
    "import sys, os, time\n",
    "import numpy as np\n",
    "import tensorflow as tf\n",
    "from tensorflow.keras.applications.xception import Xception, preprocess_input as pp_xception\n",
    "from tensorflow.keras.applications.vgg16 import VGG16, preprocess_input as pp_vgg16\n",
    "from tensorflow.keras.applications.vgg19 import VGG19, preprocess_input as pp_vgg19\n",
    "from tensorflow.keras.applications.inception_v3 import InceptionV3, preprocess_input as pp_inceptionv3\n",
    "from tensorflow.keras.applications.mobilenet_v2 import MobileNetV2, preprocess_input as pp_mobilenetv2\n",
    "from tensorflow.keras.applications.resnet50 import ResNet50, preprocess_input as pp_resnet50\n",
    "from tensorflow.keras.applications.resnet_v2 import ResNet50V2, preprocess_input as pp_resnet50v2\n",
    "from tensorflow.keras.applications.resnet_v2 import ResNet101V2, preprocess_input as pp_resnet101v2\n",
    "from tensorflow.keras.applications.resnet_v2 import ResNet152V2, preprocess_input as pp_resnet152v2\n",
    "from tensorflow.keras.applications.densenet import DenseNet121, preprocess_input as pp_densenet121\n",
    "from tensorflow.keras.applications.densenet import DenseNet169, preprocess_input as pp_densenet169\n",
    "from tensorflow.keras.applications.densenet import DenseNet201, preprocess_input as pp_densenet201\n",
    "from tensorflow.keras.applications.nasnet import NASNetMobile, preprocess_input as pp_nasnetmobile\n",
    "from tensorflow.keras.applications.efficientnet import EfficientNetB0, preprocess_input as pp_efficientnetb0\n",
    "from keras import backend as K\n",
    "import csv"
   ]
  },
  {
   "cell_type": "code",
   "execution_count": 7,
   "metadata": {},
   "outputs": [],
   "source": [
    "models = [\n",
    "    [Xception, 'xception', pp_xception],\n",
    "    [VGG16, 'vgg16', pp_vgg16],\n",
    "    [VGG19, 'vgg19', pp_vgg19],\n",
    "    [InceptionV3, 'inceptionv3', pp_inceptionv3],\n",
    "    [MobileNetV2, 'mobilenetv2', pp_mobilenetv2],\n",
    "    [ResNet50V2, 'resnet50v2', pp_resnet50v2],\n",
    "    [ResNet101V2, 'resnet101v2', pp_resnet101v2],\n",
    "    [ResNet152V2, 'resnet152v2', pp_resnet152v2],\n",
    "    [DenseNet121, 'densenet121', pp_densenet121],\n",
    "    [DenseNet169, 'densenet169', pp_densenet169],\n",
    "    [DenseNet201, 'densenet201', pp_densenet201],\n",
    "    [NASNetMobile, 'nasnetmobile', pp_nasnetmobile],\n",
    "    [EfficientNetB0, 'efficientnetb0', pp_efficientnetb0]\n",
    "]"
   ]
  },
  {
   "cell_type": "code",
   "execution_count": 9,
   "metadata": {
    "scrolled": true
   },
   "outputs": [],
   "source": [
    "def infTime(x_val):\n",
    "    start = time.time()\n",
    "    y_pred = model.predict(x_val)\n",
    "    end = time.time()\n",
    "    timeTaken = (end - start)*1000\n",
    "    return timeTaken\n",
    "\n",
    "    K.clear_session()\n"
   ]
  },
  {
   "cell_type": "code",
   "execution_count": 10,
   "metadata": {},
   "outputs": [
    {
     "name": "stdout",
     "output_type": "stream",
     "text": [
      "xception\n",
      "['248.31', '26.75', '23.31', '15.20', '9.76', '10.16', '7.23']\n",
      "vgg16\n",
      "['68.65', '27.25', '33.73', '20.65', '9.25', '7.85', '4.15']\n",
      "vgg19\n",
      "['37.18', '30.02', '17.86', '11.83', '6.14', '5.14', '4.89']\n",
      "inceptionv3\n",
      "['138.63', '28.11', '40.58', '22.66', '9.02', '8.93', '3.97']\n",
      "mobilenetv2\n",
      "['71.49', '20.73', '16.82', '8.98', '3.37', '3.48', '1.54']\n",
      "resnet50v2\n",
      "['106.59', '39.40', '28.98', '16.73', '6.01', '6.04', '2.93']\n",
      "resnet101v2\n",
      "['130.80', '34.62', '17.82', '11.22', '5.78', '7.32', '4.74']\n",
      "resnet152v2\n",
      "['160.99', '36.83', '21.12', '13.67', '7.84', '10.54', '6.70']\n",
      "densenet121\n",
      "['168.33', '26.07', '43.15', '20.11', '7.40', '8.09', '3.00']\n",
      "densenet169\n",
      "['176.59', '27.41', '28.31', '15.40', '6.44', '8.56', '3.53']\n",
      "densenet201\n",
      "['202.32', '31.77', '28.53', '16.31', '7.41', '10.47', '4.41']\n",
      "nasnetmobile\n",
      "['229.65', '28.61', '19.81', '9.71', '3.84', '8.73', '2.17']\n",
      "efficientnetb0\n",
      "['140.29', '23.68', '19.27', '10.75', '4.11', '4.95', '2.20']\n"
     ]
    }
   ],
   "source": [
    "inferenceTime = open(\"inferenceTime.csv\", mode=\"w\")\n",
    "writer = csv.writer(inferenceTime) \n",
    "writer.writerow([\"Test\", 1, 2, 4, 16, 32, 64])\n",
    "\n",
    "for i in range(13):\n",
    "\n",
    "    gpu_options = tf.compat.v1.GPUOptions(allow_growth=True)\n",
    "    session = tf.compat.v1.Session(config=tf.compat.v1.ConfigProto(gpu_options=gpu_options))\n",
    "    config = tf.compat.v1.ConfigProto()\n",
    "    config.gpu_options.per_process_gpu_memory_fraction = 1\n",
    "    session = tf.compat.v1.Session(config=config)\n",
    "    os.environ[\"CUDA_DEVICE_ORDER\"]=\"PCI_BUS_ID\"\n",
    "    os.environ[\"CUDA_VISIBLE_DEVICES\"]=\"0\"\n",
    "    \n",
    "    \n",
    "    modelChosen = models[i][0]\n",
    "    modelName = models[i][1]\n",
    "    preprocess = models[i][2]\n",
    "\n",
    "    fileName  = '.keras/models/' + modelName +'.h5'\n",
    "    model = modelChosen(weights = fileName)\n",
    "\n",
    "    if modelName not in ['xception', 'inceptionv3']:  # these models require 299 x 299\n",
    "        x_val1 = np.load(\"data/x_val5.npy\")\n",
    "\n",
    "    else:\n",
    "        x_val1 = np.load(\"data/x_val5_2.npy\")\n",
    "\n",
    "    toWrite = []    \n",
    "    print(modelName)\n",
    "    for batchSize in [1, 1, 2, 4, 16, 32, 64]:   # the first run always takes much longer, hence the first 1\n",
    "        sum = 0\n",
    "        for i in range(10):\n",
    "            x_val = preprocess(x_val1[:batchSize])\n",
    "            timeTaken = infTime(x_val)\n",
    "            timePerPhoto = timeTaken/batchSize\n",
    "            sum += timePerPhoto\n",
    "        avg = \"{:.2f}\".format(sum/10)\n",
    "        toWrite.append(avg)\n",
    "\n",
    "    print(toWrite)\n",
    "    writer.writerow(toWrite)"
   ]
  }
 ],
 "metadata": {
  "kernelspec": {
   "display_name": "Python 3",
   "language": "python",
   "name": "python3"
  },
  "language_info": {
   "codemirror_mode": {
    "name": "ipython",
    "version": 3
   },
   "file_extension": ".py",
   "mimetype": "text/x-python",
   "name": "python",
   "nbconvert_exporter": "python",
   "pygments_lexer": "ipython3",
   "version": "3.6.9"
  }
 },
 "nbformat": 4,
 "nbformat_minor": 2
}
